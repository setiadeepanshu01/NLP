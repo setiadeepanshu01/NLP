{
  "nbformat": 4,
  "nbformat_minor": 0,
  "metadata": {
    "colab": {
      "name": "END2.0 Session 1.ipynb",
      "provenance": [],
      "include_colab_link": true
    },
    "kernelspec": {
      "name": "python3",
      "display_name": "Python 3"
    },
    "language_info": {
      "name": "python"
    }
  },
  "cells": [
    {
      "cell_type": "markdown",
      "metadata": {
        "id": "view-in-github",
        "colab_type": "text"
      },
      "source": [
        "<a href=\"https://colab.research.google.com/github/setiadeepanshu01/NLP/blob/main/END2_0_Session_1.ipynb\" target=\"_parent\"><img src=\"https://colab.research.google.com/assets/colab-badge.svg\" alt=\"Open In Colab\"/></a>"
      ]
    },
    {
      "cell_type": "code",
      "metadata": {
        "colab": {
          "base_uri": "https://localhost:8080/"
        },
        "id": "GC_6PeobwwkH",
        "outputId": "d19c4461-eac7-41bd-abb2-c908b8869e0c"
      },
      "source": [
        "import torch\n",
        "from torch.autograd import Variable\n",
        "import torch.nn as nn\n",
        "import torch.nn.functional as F\n",
        "import torch.optim as optim\n",
        "import numpy as np\n",
        "import matplotlib.pyplot as plt\n",
        "%matplotlib inline\n",
        "torch.manual_seed(2)"
      ],
      "execution_count": 1,
      "outputs": [
        {
          "output_type": "execute_result",
          "data": {
            "text/plain": [
              "<torch._C.Generator at 0x7f1704622710>"
            ]
          },
          "metadata": {
            "tags": []
          },
          "execution_count": 1
        }
      ]
    },
    {
      "cell_type": "code",
      "metadata": {
        "id": "bL64bMTkw2GP"
      },
      "source": [
        "X = torch.Tensor([[0,0], [0,1], [1,0], [1,1]])\n",
        "Y = torch.Tensor([0, 1, 1, 0]).view(-1,1)"
      ],
      "execution_count": 2,
      "outputs": []
    },
    {
      "cell_type": "code",
      "metadata": {
        "id": "aC82kEAIw3Wf"
      },
      "source": [
        "class XOR(nn.Module):\n",
        "    def __init__(self, input_dim = 2, output_dim=1):\n",
        "        super(XOR, self).__init__()\n",
        "        self.lin1 = nn.Linear(input_dim, 11)\n",
        "        self.lin2 = nn.Linear(11, output_dim,bias=False)\n",
        "    \n",
        "    def forward(self, x):\n",
        "        x = self.lin1(x)\n",
        "        x = F.tanh(x)\n",
        "        x = self.lin2(x)\n",
        "        x = F.tanh(x)\n",
        "        return x"
      ],
      "execution_count": 3,
      "outputs": []
    },
    {
      "cell_type": "code",
      "metadata": {
        "colab": {
          "base_uri": "https://localhost:8080/"
        },
        "id": "8gQIQExYw65K",
        "outputId": "5b0b09d6-db8b-4a64-aef3-14b7e77f26bd"
      },
      "source": [
        "model = XOR()\n",
        "print(model)\n",
        "from torchsummary import summary\n",
        "summary(model, (2,2))"
      ],
      "execution_count": 4,
      "outputs": [
        {
          "output_type": "stream",
          "text": [
            "XOR(\n",
            "  (lin1): Linear(in_features=2, out_features=11, bias=True)\n",
            "  (lin2): Linear(in_features=11, out_features=1, bias=False)\n",
            ")\n",
            "----------------------------------------------------------------\n",
            "        Layer (type)               Output Shape         Param #\n",
            "================================================================\n",
            "            Linear-1                [-1, 2, 11]              33\n",
            "            Linear-2                 [-1, 2, 1]              11\n",
            "================================================================\n",
            "Total params: 44\n",
            "Trainable params: 44\n",
            "Non-trainable params: 0\n",
            "----------------------------------------------------------------\n",
            "Input size (MB): 0.00\n",
            "Forward/backward pass size (MB): 0.00\n",
            "Params size (MB): 0.00\n",
            "Estimated Total Size (MB): 0.00\n",
            "----------------------------------------------------------------\n"
          ],
          "name": "stdout"
        },
        {
          "output_type": "stream",
          "text": [
            "/usr/local/lib/python3.7/dist-packages/torch/nn/functional.py:1698: UserWarning: nn.functional.tanh is deprecated. Use torch.tanh instead.\n",
            "  warnings.warn(\"nn.functional.tanh is deprecated. Use torch.tanh instead.\")\n"
          ],
          "name": "stderr"
        }
      ]
    },
    {
      "cell_type": "code",
      "metadata": {
        "id": "yeotEq19x6XF"
      },
      "source": [
        "def weights_init(model):\n",
        "    for m in model.modules():\n",
        "        if isinstance(m, nn.Linear):\n",
        "            # initialize the weight tensor, here we use a normal distribution\n",
        "            m.weight.data.normal_(0, 1)\n",
        "\n",
        "weights_init(model)"
      ],
      "execution_count": 5,
      "outputs": []
    },
    {
      "cell_type": "code",
      "metadata": {
        "id": "WrD_sNzLx78e"
      },
      "source": [
        "loss_func = nn.L1Loss()"
      ],
      "execution_count": 6,
      "outputs": []
    },
    {
      "cell_type": "code",
      "metadata": {
        "id": "-zvbrMd2x_lA"
      },
      "source": [
        "optimizer = optim.SGD(model.parameters(), lr=0.02, momentum=0.9)\n"
      ],
      "execution_count": 7,
      "outputs": []
    },
    {
      "cell_type": "code",
      "metadata": {
        "colab": {
          "base_uri": "https://localhost:8080/"
        },
        "id": "q7tWa3D7yA5X",
        "outputId": "0a4cd713-ce8b-47c5-a85a-087b69e8950e"
      },
      "source": [
        "epochs = 2001\n",
        "steps = X.size(0)\n",
        "for i in range(epochs):\n",
        "    for j in range(steps):\n",
        "        data_point = np.random.randint(X.size(0))\n",
        "        x_var = Variable(X[data_point], requires_grad=False)\n",
        "        y_var = Variable(Y[data_point], requires_grad=False)\n",
        "        \n",
        "        optimizer.zero_grad()\n",
        "        y_hat = model(x_var)\n",
        "        loss = loss_func.forward(y_hat, y_var)\n",
        "        loss.backward()\n",
        "        optimizer.step()\n",
        "        \n",
        "    if i % 50 == 0:\n",
        "        print( \"Epoch: {0}, Loss: {1}, \".format(i, loss.data.numpy()))"
      ],
      "execution_count": 8,
      "outputs": [
        {
          "output_type": "stream",
          "text": [
            "/usr/local/lib/python3.7/dist-packages/torch/nn/functional.py:1698: UserWarning: nn.functional.tanh is deprecated. Use torch.tanh instead.\n",
            "  warnings.warn(\"nn.functional.tanh is deprecated. Use torch.tanh instead.\")\n"
          ],
          "name": "stderr"
        },
        {
          "output_type": "stream",
          "text": [
            "Epoch: 0, Loss: 0.27476298809051514, \n",
            "Epoch: 50, Loss: 0.9999828934669495, \n",
            "Epoch: 100, Loss: 0.99946528673172, \n",
            "Epoch: 150, Loss: 0.00029456615447998047, \n",
            "Epoch: 200, Loss: 7.098913192749023e-05, \n",
            "Epoch: 250, Loss: 7.420778274536133e-05, \n",
            "Epoch: 300, Loss: 0.00027358531951904297, \n",
            "Epoch: 350, Loss: 0.9992737770080566, \n",
            "Epoch: 400, Loss: 0.9991738796234131, \n",
            "Epoch: 450, Loss: 9.703636169433594e-05, \n",
            "Epoch: 500, Loss: 0.9989070892333984, \n",
            "Epoch: 550, Loss: 0.00031578540802001953, \n",
            "Epoch: 600, Loss: 0.9999783039093018, \n",
            "Epoch: 650, Loss: 0.9974446892738342, \n",
            "Epoch: 700, Loss: 0.00025177001953125, \n",
            "Epoch: 750, Loss: 0.37277939915657043, \n",
            "Epoch: 800, Loss: 0.1318376511335373, \n",
            "Epoch: 850, Loss: 0.018687307834625244, \n",
            "Epoch: 900, Loss: 0.9992145895957947, \n",
            "Epoch: 950, Loss: 0.9989715218544006, \n",
            "Epoch: 1000, Loss: 0.005201876163482666, \n",
            "Epoch: 1050, Loss: 0.005582034587860107, \n",
            "Epoch: 1100, Loss: 0.005760014057159424, \n",
            "Epoch: 1150, Loss: 0.11437888443470001, \n",
            "Epoch: 1200, Loss: 0.007307513151317835, \n",
            "Epoch: 1250, Loss: 0.007752597332000732, \n",
            "Epoch: 1300, Loss: 0.12704186141490936, \n",
            "Epoch: 1350, Loss: 0.99876469373703, \n",
            "Epoch: 1400, Loss: 0.005815684795379639, \n",
            "Epoch: 1450, Loss: 0.005133688449859619, \n",
            "Epoch: 1500, Loss: 0.24819448590278625, \n",
            "Epoch: 1550, Loss: 0.004436612129211426, \n",
            "Epoch: 1600, Loss: 0.0043242573738098145, \n",
            "Epoch: 1650, Loss: 0.0028475522994995117, \n",
            "Epoch: 1700, Loss: 0.9985058903694153, \n",
            "Epoch: 1750, Loss: 0.028969278559088707, \n",
            "Epoch: 1800, Loss: 0.004073083400726318, \n",
            "Epoch: 1850, Loss: 0.003933131694793701, \n",
            "Epoch: 1900, Loss: 0.9982935190200806, \n",
            "Epoch: 1950, Loss: 0.004605889320373535, \n",
            "Epoch: 2000, Loss: 0.9987247586250305, \n"
          ],
          "name": "stdout"
        }
      ]
    },
    {
      "cell_type": "code",
      "metadata": {
        "id": "QV0dIdveyCRi"
      },
      "source": [
        ""
      ],
      "execution_count": null,
      "outputs": []
    }
  ]
}