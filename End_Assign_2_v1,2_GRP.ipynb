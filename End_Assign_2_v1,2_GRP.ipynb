{
  "nbformat": 4,
  "nbformat_minor": 0,
  "metadata": {
    "colab": {
      "name": "End - Assign 2 - v1,2-GRP.ipynb",
      "provenance": [],
      "collapsed_sections": []
    },
    "kernelspec": {
      "name": "python3",
      "display_name": "Python 3"
    },
    "language_info": {
      "name": "python"
    }
  },
  "cells": [
    {
      "cell_type": "code",
      "metadata": {
        "id": "h08c1Ze7M1ry"
      },
      "source": [
        "import torch\n",
        "import torch.nn as nn\n",
        "import torchvision\n",
        "import torchvision.transforms as transforms\n",
        "import numpy as np\n",
        "import matplotlib.pyplot as plt\n",
        "import torch.nn.functional as F\n",
        "from torchsummary import summary\n"
      ],
      "execution_count": 1,
      "outputs": []
    },
    {
      "cell_type": "code",
      "metadata": {
        "id": "pyrRoYYWM2vs"
      },
      "source": [
        "train_dataset = torchvision.datasets.MNIST(\n",
        "                    root='.',\n",
        "                    train=True,\n",
        "                    transform=transforms.ToTensor(), # This will automatically normalize data!\n",
        "                    download=True)"
      ],
      "execution_count": 2,
      "outputs": []
    },
    {
      "cell_type": "code",
      "metadata": {
        "id": "g4zH9-nzM4ON"
      },
      "source": [
        "test_dataset = torchvision.datasets.MNIST(\n",
        "                    root='.',\n",
        "                    train=False,\n",
        "                    transform=transforms.ToTensor(),\n",
        "                    download=True)"
      ],
      "execution_count": 3,
      "outputs": []
    },
    {
      "cell_type": "code",
      "metadata": {
        "id": "MlsOahIwM5qR"
      },
      "source": [
        "batch_size = 32\n",
        "train_loader = torch.utils.data.DataLoader(\n",
        "                        dataset=train_dataset,\n",
        "                        batch_size=batch_size,\n",
        "                        shuffle=True\n",
        "                        )\n",
        "\n",
        "test_loader = torch.utils.data.DataLoader(\n",
        "                        dataset=test_dataset,\n",
        "                        batch_size=batch_size,\n",
        "                        shuffle=False # Not necessary!\n",
        "                        )"
      ],
      "execution_count": 4,
      "outputs": []
    },
    {
      "cell_type": "code",
      "metadata": {
        "id": "rnbQjvaiM6vH"
      },
      "source": [
        "class Model1(nn.Module):\n",
        "    def __init__(self):\n",
        "        super(Model1, self).__init__()\n",
        "        self.linear1 = nn.Linear(794, 30)\n",
        "        self.relu = nn.ReLU()\n",
        "        self.linear2 = nn.Linear(30, 30)\n",
        "        # self.linear3 = nn.Linear(30,28)\n",
        "        self.linear3 = nn.Linear(30,10)\n",
        "        self.linear4 = nn.Linear(30,18)\n",
        "            \n",
        "    def forward(self, X):\n",
        "        # out = torch.cat((Xa,Xb), dim=-1)\n",
        "        out = self.linear1(X)\n",
        "        out = self.relu(out)\n",
        "        out = self.linear2(out)\n",
        "        out = self.relu(out)\n",
        "        # out = torch.cat((Xa,outa), dim=-1)\n",
        "        # out = self.linear3(out)\n",
        "        # out = self.relu(out)\n",
        "        outa = self.linear3(out)\n",
        "        outa = self.relu(outa)\n",
        "        outb = self.linear4(out)\n",
        "        outb = self.relu(outb)\n",
        "        return outa, outb\n",
        "\n",
        "model = Model1()"
      ],
      "execution_count": 5,
      "outputs": []
    },
    {
      "cell_type": "code",
      "metadata": {
        "colab": {
          "base_uri": "https://localhost:8080/"
        },
        "id": "DI20qngGM-xU",
        "outputId": "cf6cc50c-8341-4861-9181-d073583f2ddd"
      },
      "source": [
        "device = torch.device(\"cuda:0\" if torch.cuda.is_available() else \"cpu\")\n",
        "print(device)\n",
        "model.to(device)"
      ],
      "execution_count": 6,
      "outputs": [
        {
          "output_type": "stream",
          "text": [
            "cpu\n"
          ],
          "name": "stdout"
        },
        {
          "output_type": "execute_result",
          "data": {
            "text/plain": [
              "Model1(\n",
              "  (linear1): Linear(in_features=794, out_features=30, bias=True)\n",
              "  (relu): ReLU()\n",
              "  (linear2): Linear(in_features=30, out_features=30, bias=True)\n",
              "  (linear3): Linear(in_features=30, out_features=10, bias=True)\n",
              "  (linear4): Linear(in_features=30, out_features=18, bias=True)\n",
              ")"
            ]
          },
          "metadata": {
            "tags": []
          },
          "execution_count": 6
        }
      ]
    },
    {
      "cell_type": "code",
      "metadata": {
        "colab": {
          "base_uri": "https://localhost:8080/"
        },
        "id": "r2PQoVDaNMlB",
        "outputId": "020b46e7-091f-4eec-a9da-d584fba9a60d"
      },
      "source": [
        "summary(model, [(1,794)])"
      ],
      "execution_count": 7,
      "outputs": [
        {
          "output_type": "stream",
          "text": [
            "----------------------------------------------------------------\n",
            "        Layer (type)               Output Shape         Param #\n",
            "================================================================\n",
            "            Linear-1                [-1, 1, 30]          23,850\n",
            "              ReLU-2                [-1, 1, 30]               0\n",
            "            Linear-3                [-1, 1, 30]             930\n",
            "              ReLU-4                [-1, 1, 30]               0\n",
            "            Linear-5                [-1, 1, 10]             310\n",
            "              ReLU-6                [-1, 1, 10]               0\n",
            "            Linear-7                [-1, 1, 18]             558\n",
            "              ReLU-8                [-1, 1, 18]               0\n",
            "================================================================\n",
            "Total params: 25,648\n",
            "Trainable params: 25,648\n",
            "Non-trainable params: 0\n",
            "----------------------------------------------------------------\n",
            "Input size (MB): 0.00\n",
            "Forward/backward pass size (MB): 0.00\n",
            "Params size (MB): 0.10\n",
            "Estimated Total Size (MB): 0.10\n",
            "----------------------------------------------------------------\n"
          ],
          "name": "stdout"
        }
      ]
    },
    {
      "cell_type": "code",
      "metadata": {
        "id": "VqjsYPzLNApJ"
      },
      "source": [
        "loss_fn = nn.CrossEntropyLoss()\n",
        "optimizer = torch.optim.Adam(model.parameters())"
      ],
      "execution_count": 8,
      "outputs": []
    },
    {
      "cell_type": "code",
      "metadata": {
        "colab": {
          "base_uri": "https://localhost:8080/"
        },
        "id": "VrzXBknPNCm5",
        "outputId": "e8fb21b0-c2d3-4d39-a855-2377a7465d37"
      },
      "source": [
        "# Training Loop\n",
        "\n",
        "n_epochs = 10\n",
        "\n",
        "\n",
        "\n",
        "for epoch in range(n_epochs):\n",
        "    train_loss = []\n",
        "    n_correcta = 0.\n",
        "    n_total = 0.\n",
        "    n_correctb = 0.\n",
        "    for inputs, targets in train_loader:\n",
        "        # Move data to GPU\n",
        "        inputs, targets = inputs.to(device), targets.to(device)\n",
        "        \n",
        "        # Reshape the data\n",
        "        inputs = inputs.view(-1, 784)\n",
        "        \n",
        "        # Generate random numbers\n",
        "        ri = torch.randint(0, 9, (inputs.shape[0],))\n",
        "        r = torch.nn.functional.one_hot(ri, num_classes=10)\n",
        "\n",
        "        # Concatenate the inputs\n",
        "        data = torch.hstack((inputs,r))\n",
        "\n",
        "        # Add image target and input number\n",
        "        # ro = ri + targets\n",
        "        # result = torch.nn.functional.one_hot(ro, num_classes=18)\n",
        "\n",
        "        result = ri + targets\n",
        "\n",
        "        # zero the gradient\n",
        "        optimizer.zero_grad()\n",
        "        \n",
        "        # forward pass\n",
        "        outputa, outputb = model(data)\n",
        "        lossa = loss_fn(outputa, targets)\n",
        "        lossb = loss_fn(outputb, targets)\n",
        "        loss = lossa + lossb\n",
        "\n",
        "        # get predictiona\n",
        "        _, predictiona = torch.max(outputa, 1)\n",
        "        _, predictionb = torch.max(outputb, 1)\n",
        "\n",
        "        # update counts\n",
        "        n_correcta += (predictiona == targets).sum().item()\n",
        "        n_total += targets.shape[0]\n",
        "\n",
        "        n_correctb += (predictionb == result).sum().item()\n",
        "        \n",
        "        # backward pass and optimize\n",
        "        loss.backward()\n",
        "        optimizer.step()\n",
        "        \n",
        "        train_loss.append(loss.item())\n",
        "        \n",
        "    train_loss = np.mean(train_loss)\n",
        "    train_acc_a = n_correcta / n_total * 100\n",
        "    train_acc_b = n_correctb / n_total * 100\n",
        "\n",
        "    \n",
        "    test_loss = []\n",
        "    n_correct = 0.\n",
        "    n_total = 0.\n",
        "    \n",
        "    \n",
        "    \n",
        "    # for inputs, targets in test_loader:\n",
        "    #     # Move data to GPU\n",
        "    #     inputs, targets = inputs.to(device), targets.to(device)\n",
        "        \n",
        "    #     # Reshape the data\n",
        "    #     inputs = inputs.view(-1, 784)\n",
        "        \n",
        "    #     # Generate random numbers\n",
        "    #     ri = torch.randint(0, 9, (inputs.shape[0])\n",
        "    #     r = torch.nn.functional.one_hot(ri, num_classes=10)\n",
        "\n",
        "    #     # Concatenate the inputs\n",
        "    #     data = torch.hstack((inputs,r))\n",
        "\n",
        "    #     # forward pass\n",
        "    #     outputs_test = model(data)\n",
        "    #     loss_test = loss_fn(outputs_test, targets)\n",
        "        \n",
        "    #     # get prediction\n",
        "    #     _, predictions = torch.max(outputs_test, 1)\n",
        "              \n",
        "    #     # update counts\n",
        "    #     n_correct += (predictions == targets).sum().item()\n",
        "    #     n_total += targets.shape[0]\n",
        "        \n",
        "    #     test_loss.append(loss_test.item())\n",
        "        \n",
        "    # test_loss = np.mean(test_loss)\n",
        "    # test_acc = n_correct / n_total * 100\n",
        "    \n",
        "    \n",
        "    print(f'Epoch: {epoch+1}/{n_epochs}, Train Accuracy [MNIST]: {train_acc_a:.2f}%,  Train Accuracy [Sum]: {train_acc_b:.2f}%, Train Loss: {train_loss:.4f}')"
      ],
      "execution_count": 9,
      "outputs": [
        {
          "output_type": "stream",
          "text": [
            "Epoch: 1/10, Train Accuracy [MNIST]: 50.83%,  Train Accuracy [Sum]: 8.07%, Train Loss: 2.7034\n",
            "Epoch: 2/10, Train Accuracy [MNIST]: 55.75%,  Train Accuracy [Sum]: 8.16%, Train Loss: 2.3451\n",
            "Epoch: 3/10, Train Accuracy [MNIST]: 56.36%,  Train Accuracy [Sum]: 7.94%, Train Loss: 2.2836\n",
            "Epoch: 4/10, Train Accuracy [MNIST]: 56.65%,  Train Accuracy [Sum]: 7.91%, Train Loss: 2.2502\n",
            "Epoch: 5/10, Train Accuracy [MNIST]: 56.85%,  Train Accuracy [Sum]: 7.95%, Train Loss: 2.2284\n",
            "Epoch: 6/10, Train Accuracy [MNIST]: 57.04%,  Train Accuracy [Sum]: 7.96%, Train Loss: 2.2116\n",
            "Epoch: 7/10, Train Accuracy [MNIST]: 57.13%,  Train Accuracy [Sum]: 7.78%, Train Loss: 2.1979\n",
            "Epoch: 8/10, Train Accuracy [MNIST]: 57.22%,  Train Accuracy [Sum]: 7.87%, Train Loss: 2.1883\n",
            "Epoch: 9/10, Train Accuracy [MNIST]: 57.32%,  Train Accuracy [Sum]: 7.78%, Train Loss: 2.1793\n",
            "Epoch: 10/10, Train Accuracy [MNIST]: 57.39%,  Train Accuracy [Sum]: 7.75%, Train Loss: 2.1737\n"
          ],
          "name": "stdout"
        }
      ]
    },
    {
      "cell_type": "code",
      "metadata": {
        "id": "21JR1kECNDyw"
      },
      "source": [
        ""
      ],
      "execution_count": 9,
      "outputs": []
    },
    {
      "cell_type": "code",
      "metadata": {
        "id": "gs1VGTyDNE4M"
      },
      "source": [
        ""
      ],
      "execution_count": 9,
      "outputs": []
    },
    {
      "cell_type": "code",
      "metadata": {
        "id": "QihP_VqSNE1E"
      },
      "source": [
        "class Model2(nn.Module):\n",
        "    def __init__(self):\n",
        "        super(Model2, self).__init__()\n",
        "        self.lineara1 = nn.Linear(784, 30)\n",
        "        self.relu = nn.ReLU()\n",
        "        self.lineara2 = nn.Linear(30, 30)\n",
        "        # self.linear3 = nn.Linear(30,28)\n",
        "        self.lineara3 = nn.Linear(30,10)\n",
        "        # self.lineara4 = nn.Linear(30,18)\n",
        "\n",
        "        self.linearb1 = nn.Linear(40, 60)\n",
        "        self.relu = nn.ReLU()\n",
        "        self.linearb2 = nn.Linear(60, 30)\n",
        "        # self.linear3 = nn.Linear(30,28)\n",
        "        self.linearb3 = nn.Linear(30,18)\n",
        "        # self.linearb4 = nn.Linear(30,18)\n",
        "            \n",
        "    def forward(self, Xa, Xb):\n",
        "        # out = torch.cat((Xa,Xb), dim=-1)\n",
        "\n",
        "        out = self.lineara1(Xa)\n",
        "        out1 = self.relu(out)\n",
        "        out = self.lineara2(out1)\n",
        "        out = self.relu(out)\n",
        "        out = self.lineara3(out)\n",
        "        outa = self.relu(out)\n",
        "        # out = torch.cat((Xa,outa), dim=-1)\n",
        "        # out = self.linear3(out)\n",
        "        # out = self.relu(out)\n",
        "\n",
        "        inb = torch.cat((out1,Xb), dim=-1)\n",
        "        outb = self.linearb1(inb)\n",
        "        outb = self.relu(outb)\n",
        "        outb = self.linearb2(outb)\n",
        "        outb = self.relu(outb)\n",
        "        outb = self.linearb3(outb)\n",
        "        outb = self.relu(outb)\n",
        "        return outa, outb\n",
        "\n",
        "model = Model2()"
      ],
      "execution_count": 10,
      "outputs": []
    },
    {
      "cell_type": "code",
      "metadata": {
        "colab": {
          "base_uri": "https://localhost:8080/"
        },
        "id": "uL-Ft3VjNHFh",
        "outputId": "beae9d56-8923-48aa-cf58-0b7551a6760d"
      },
      "source": [
        "device = torch.device(\"cuda:0\" if torch.cuda.is_available() else \"cpu\")\n",
        "print(device)\n",
        "model.to(device)"
      ],
      "execution_count": 11,
      "outputs": [
        {
          "output_type": "stream",
          "text": [
            "cpu\n"
          ],
          "name": "stdout"
        },
        {
          "output_type": "execute_result",
          "data": {
            "text/plain": [
              "Model2(\n",
              "  (lineara1): Linear(in_features=784, out_features=30, bias=True)\n",
              "  (relu): ReLU()\n",
              "  (lineara2): Linear(in_features=30, out_features=30, bias=True)\n",
              "  (lineara3): Linear(in_features=30, out_features=10, bias=True)\n",
              "  (linearb1): Linear(in_features=40, out_features=60, bias=True)\n",
              "  (linearb2): Linear(in_features=60, out_features=30, bias=True)\n",
              "  (linearb3): Linear(in_features=30, out_features=18, bias=True)\n",
              ")"
            ]
          },
          "metadata": {
            "tags": []
          },
          "execution_count": 11
        }
      ]
    },
    {
      "cell_type": "code",
      "metadata": {
        "colab": {
          "base_uri": "https://localhost:8080/"
        },
        "id": "9KPRxI2NNIWw",
        "outputId": "e2685dd1-3156-4d51-9e54-062f115d98be"
      },
      "source": [
        "summary(model, [(1,784), (1,10)])"
      ],
      "execution_count": 12,
      "outputs": [
        {
          "output_type": "stream",
          "text": [
            "----------------------------------------------------------------\n",
            "        Layer (type)               Output Shape         Param #\n",
            "================================================================\n",
            "            Linear-1                [-1, 1, 30]          23,550\n",
            "              ReLU-2                [-1, 1, 30]               0\n",
            "            Linear-3                [-1, 1, 30]             930\n",
            "              ReLU-4                [-1, 1, 30]               0\n",
            "            Linear-5                [-1, 1, 10]             310\n",
            "              ReLU-6                [-1, 1, 10]               0\n",
            "            Linear-7                [-1, 1, 60]           2,460\n",
            "              ReLU-8                [-1, 1, 60]               0\n",
            "            Linear-9                [-1, 1, 30]           1,830\n",
            "             ReLU-10                [-1, 1, 30]               0\n",
            "           Linear-11                [-1, 1, 18]             558\n",
            "             ReLU-12                [-1, 1, 18]               0\n",
            "================================================================\n",
            "Total params: 29,638\n",
            "Trainable params: 29,638\n",
            "Non-trainable params: 0\n",
            "----------------------------------------------------------------\n",
            "Input size (MB): 0.03\n",
            "Forward/backward pass size (MB): 0.00\n",
            "Params size (MB): 0.11\n",
            "Estimated Total Size (MB): 0.15\n",
            "----------------------------------------------------------------\n"
          ],
          "name": "stdout"
        }
      ]
    },
    {
      "cell_type": "code",
      "metadata": {
        "id": "xYX1HRfHNPgy"
      },
      "source": [
        "loss_fn = nn.CrossEntropyLoss()\n",
        "optimizer = torch.optim.Adam(model.parameters())"
      ],
      "execution_count": 13,
      "outputs": []
    },
    {
      "cell_type": "code",
      "metadata": {
        "colab": {
          "base_uri": "https://localhost:8080/"
        },
        "id": "XgyikOcPNQ0G",
        "outputId": "8542b7a9-44ea-4f65-a6e7-6fdd69e47788"
      },
      "source": [
        "# Model 2\n",
        "\n",
        "# Training Loop\n",
        "\n",
        "n_epochs = 10\n",
        "\n",
        "\n",
        "for epoch in range(n_epochs):\n",
        "    train_loss = []\n",
        "    n_correcta = 0.\n",
        "    n_total = 0.\n",
        "    n_correctb = 0.\n",
        "    for inputs, targets in train_loader:\n",
        "        # Move data to GPU\n",
        "        inputs, targets = inputs.to(device), targets.to(device)\n",
        "        \n",
        "        # Reshape the data\n",
        "        inputs = inputs.view(-1, 784)\n",
        "        \n",
        "        # Generate random numbers\n",
        "        ri = torch.randint(0, 9, (inputs.shape[0],))\n",
        "        r = torch.nn.functional.one_hot(ri, num_classes=10)\n",
        "\n",
        "        # Concatenate the inputs\n",
        "        data = torch.hstack((inputs,r))\n",
        "\n",
        "        # Add image target and input number\n",
        "        # ro = ri + targets\n",
        "        # result = torch.nn.functional.one_hot(ro, num_classes=18)\n",
        "\n",
        "        result = ri + targets\n",
        "\n",
        "        # zero the gradient\n",
        "        optimizer.zero_grad()\n",
        "        \n",
        "        # forward pass\n",
        "        outputa, outputb = model(inputs, r)\n",
        "        lossa = loss_fn(outputa, targets)\n",
        "        lossb = loss_fn(outputb, targets)\n",
        "        loss = lossa + lossb\n",
        "\n",
        "        # get predictiona\n",
        "        _, predictiona = torch.max(outputa, 1)\n",
        "        _, predictionb = torch.max(outputb, 1)\n",
        "\n",
        "        # update counts\n",
        "        n_correcta += (predictiona == targets).sum().item()\n",
        "        n_total += targets.shape[0]\n",
        "\n",
        "        n_correctb += (predictionb == result).sum().item()\n",
        "        \n",
        "        # backward pass and optimize\n",
        "        loss.backward()\n",
        "        optimizer.step()\n",
        "        \n",
        "        train_loss.append(loss.item())\n",
        "        \n",
        "    train_loss = np.mean(train_loss)\n",
        "    train_acc_a = n_correcta / n_total * 100\n",
        "    train_acc_b = n_correctb / n_total * 100\n",
        "    \n",
        "    test_loss = []\n",
        "    n_correct = 0.\n",
        "    n_total = 0.\n",
        "    \n",
        "    \n",
        "    \n",
        "    # for inputs, targets in test_loader:\n",
        "    #     # Move data to GPU\n",
        "    #     inputs, targets = inputs.to(device), targets.to(device)\n",
        "        \n",
        "    #     # Reshape the data\n",
        "    #     inputs = inputs.view(-1, 784)\n",
        "        \n",
        "    #     # Generate random numbers\n",
        "    #     ri = torch.randint(0, 9, (inputs.shape[0])\n",
        "    #     r = torch.nn.functional.one_hot(ri, num_classes=10)\n",
        "\n",
        "    #     # Concatenate the inputs\n",
        "    #     data = torch.hstack((inputs,r))\n",
        "\n",
        "    #     # forward pass\n",
        "    #     outputs_test = model(data)\n",
        "    #     loss_test = loss_fn(outputs_test, targets)\n",
        "        \n",
        "    #     # get prediction\n",
        "    #     _, predictions = torch.max(outputs_test, 1)\n",
        "        \n",
        "    #     # update counts\n",
        "    #     n_correct += (predictions == targets).sum().item()\n",
        "    #     n_total += targets.shape[0]\n",
        "        \n",
        "    #     test_loss.append(loss_test.item())\n",
        "        \n",
        "    # test_loss = np.mean(test_loss)\n",
        "    # test_acc = n_correct / n_total * 100\n",
        "    \n",
        "\n",
        "    \n",
        "    print(f'Epoch: {epoch+1}/{n_epochs}, Train Accuracy [MNIST]: {train_acc_a:.2f}%,  Train Accuracy [Sum]: {train_acc_b:.2f}%, Train Loss: {train_loss:.4f}')"
      ],
      "execution_count": 15,
      "outputs": [
        {
          "output_type": "stream",
          "text": [
            "Epoch: 1/10, Train Accuracy [MNIST]: 79.48%,  Train Accuracy [Sum]: 8.18%, Train Loss: 2.1042\n",
            "Epoch: 2/10, Train Accuracy [MNIST]: 84.68%,  Train Accuracy [Sum]: 8.76%, Train Loss: 1.5060\n",
            "Epoch: 3/10, Train Accuracy [MNIST]: 85.70%,  Train Accuracy [Sum]: 8.67%, Train Loss: 1.4153\n",
            "Epoch: 4/10, Train Accuracy [MNIST]: 86.35%,  Train Accuracy [Sum]: 8.57%, Train Loss: 1.3711\n",
            "Epoch: 5/10, Train Accuracy [MNIST]: 86.75%,  Train Accuracy [Sum]: 8.62%, Train Loss: 1.3400\n",
            "Epoch: 6/10, Train Accuracy [MNIST]: 87.09%,  Train Accuracy [Sum]: 8.83%, Train Loss: 1.3176\n",
            "Epoch: 7/10, Train Accuracy [MNIST]: 87.33%,  Train Accuracy [Sum]: 8.73%, Train Loss: 1.2990\n",
            "Epoch: 8/10, Train Accuracy [MNIST]: 87.48%,  Train Accuracy [Sum]: 8.69%, Train Loss: 1.2838\n",
            "Epoch: 9/10, Train Accuracy [MNIST]: 87.61%,  Train Accuracy [Sum]: 8.76%, Train Loss: 1.2727\n",
            "Epoch: 10/10, Train Accuracy [MNIST]: 87.74%,  Train Accuracy [Sum]: 8.70%, Train Loss: 1.2635\n"
          ],
          "name": "stdout"
        }
      ]
    }
  ]
}